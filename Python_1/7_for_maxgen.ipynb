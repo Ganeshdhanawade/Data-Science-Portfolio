{
 "cells": [
  {
   "cell_type": "code",
   "execution_count": 1,
   "metadata": {},
   "outputs": [
    {
     "data": {
      "text/plain": [
       "12400"
      ]
     },
     "execution_count": 1,
     "metadata": {},
     "output_type": "execute_result"
    }
   ],
   "source": [
    "\n",
    "\n",
    "cexpences=[2300,1200,3400,5500]\n",
    "addition=expences[0]+expences[1]+expences[2]+expences[3]\n",
    "addition"
   ]
  },
  {
   "cell_type": "code",
   "execution_count": 2,
   "metadata": {},
   "outputs": [
    {
     "name": "stdout",
     "output_type": "stream",
     "text": [
      "wai\n",
      "satara\n",
      "sangli\n",
      "karad\n"
     ]
    }
   ],
   "source": [
    "city=['wai','satara','sangli','karad']\n",
    "for i in city:\n",
    "    print(i)"
   ]
  },
  {
   "cell_type": "code",
   "execution_count": 3,
   "metadata": {},
   "outputs": [
    {
     "name": "stdout",
     "output_type": "stream",
     "text": [
      "12400\n"
     ]
    }
   ],
   "source": [
    "exp=[2300,1200,3400,5500]\n",
    "add=0\n",
    "\n",
    "for i in exp:\n",
    "    add=add+i\n",
    "\n",
    "print(add)"
   ]
  },
  {
   "cell_type": "code",
   "execution_count": 4,
   "metadata": {},
   "outputs": [
    {
     "name": "stdout",
     "output_type": "stream",
     "text": [
      "w\n",
      "a\n",
      "i\n"
     ]
    }
   ],
   "source": [
    "for i in \"wai\":\n",
    "    print(i)\n",
    "    "
   ]
  },
  {
   "cell_type": "code",
   "execution_count": 5,
   "metadata": {},
   "outputs": [
    {
     "data": {
      "text/plain": [
       "4"
      ]
     },
     "execution_count": 5,
     "metadata": {},
     "output_type": "execute_result"
    }
   ],
   "source": [
    "len(exp)"
   ]
  },
  {
   "cell_type": "code",
   "execution_count": 6,
   "metadata": {},
   "outputs": [
    {
     "name": "stdout",
     "output_type": "stream",
     "text": [
      "0 1 2 3\n"
     ]
    }
   ],
   "source": [
    "print(*range(len(exp)))"
   ]
  },
  {
   "cell_type": "code",
   "execution_count": 7,
   "metadata": {},
   "outputs": [
    {
     "name": "stdout",
     "output_type": "stream",
     "text": [
      "1 3 5 7 9\n"
     ]
    }
   ],
   "source": [
    "print(*range(1,11,2))"
   ]
  },
  {
   "cell_type": "code",
   "execution_count": 8,
   "metadata": {},
   "outputs": [
    {
     "name": "stdout",
     "output_type": "stream",
     "text": [
      "[1, 2, 3, 4, 5, 6, 7, 8, 9, 10]\n"
     ]
    }
   ],
   "source": [
    "print(list(range(1,11,1)))"
   ]
  },
  {
   "cell_type": "code",
   "execution_count": 9,
   "metadata": {},
   "outputs": [
    {
     "name": "stdout",
     "output_type": "stream",
     "text": [
      "month 1,expence is:2300\n",
      "The total expence is:2300\n",
      "month 2,expence is:1200\n",
      "The total expence is:3500\n",
      "month 3,expence is:3400\n",
      "The total expence is:6900\n",
      "month 4,expence is:5500\n",
      "The total expence is:12400\n"
     ]
    }
   ],
   "source": [
    "# in monthly expense list print month number, expense and then total\n",
    "exp=[2300,1200,3400,5500]\n",
    "total=0\n",
    "for i in range(len(exp)):\n",
    "    print(f\"month {i+1},expence is:{exp[i]}\")\n",
    "    total+=exp[i]\n",
    "    print(f\"The total expence is:{total}\")"
   ]
  },
  {
   "cell_type": "code",
   "execution_count": 10,
   "metadata": {},
   "outputs": [
    {
     "name": "stdout",
     "output_type": "stream",
     "text": [
      "your location is not currect: sofa\n",
      "your location is not currect: garage\n",
      "your location is not currect: chair\n",
      "your location is not currect: table\n",
      "you go currect location: closet\n"
     ]
    }
   ],
   "source": [
    "key_location=\"closet\"\n",
    "locations = [\"sofa\",\"garage\",\"chair\",\"table\",\"closet\",\"garden\"]\n",
    "for i in range(len(locations)):\n",
    "    if locations[i]==key_location:\n",
    "        print(\"you go currect location:\",locations[i])\n",
    "        break\n",
    "    else:\n",
    "        print(\"your location is not currect:\",locations[i])"
   ]
  },
  {
   "cell_type": "code",
   "execution_count": 11,
   "metadata": {},
   "outputs": [
    {
     "name": "stdout",
     "output_type": "stream",
     "text": [
      "0\n",
      "1\n",
      "2\n",
      "3\n",
      "4\n",
      "5\n"
     ]
    }
   ],
   "source": [
    "for i in range(len(locations)):\n",
    "    print(i)"
   ]
  },
  {
   "cell_type": "code",
   "execution_count": 12,
   "metadata": {},
   "outputs": [
    {
     "name": "stdout",
     "output_type": "stream",
     "text": [
      "\n",
      " Tell me something to repeat\n",
      " Enter quit to end programquit\n",
      "quit\n"
     ]
    }
   ],
   "source": [
    "prompt=\"\\n Tell me something to repeat\"\n",
    "prompt+=\"\\n Enter quit to end program\"\n",
    "\n",
    "message=\"\"\n",
    "while message != \"quit\":\n",
    "    message=input(prompt) \n",
    "    print(message)\n",
    "\n"
   ]
  },
  {
   "cell_type": "markdown",
   "metadata": {},
   "source": [
    "## Exercise: Python for loop\n",
    "\n",
    "1.After flipping a coin 10 times you got this result,\n",
    "#### result = [\"heads\",\"tails\",\"tails\",\"heads\",\"tails\",\"heads\",\"heads\",\"tails\",\"tails\",\"tails\"]\n",
    "\n",
    "Using for loop figure out how many times you got heads\n",
    "\n",
    "\n",
    "2.Print square of all numbers between 1 to 10 except even numbers\n",
    "\n",
    "\n",
    "3.Lets say you are running a 5 km race. Write a program that,\n",
    "A.Upon completing each 1 km asks you \"are you tired?\"\n",
    "B.If you reply \"yes\" then it should break and print \"you didn't finish the race\"\n",
    "C.If you reply \"no\" then it should continue and ask \"are you tired\" on every km\n",
    "D.If you finish all 5 km then it should print congratulations message\n",
    "\n",
    "\n",
    "4.Write a program that prints following shape ```\n",
    "\n"
   ]
  },
  {
   "cell_type": "markdown",
   "metadata": {},
   "source": [
    "### 1.After tossing coin store their outcome in result variable, using that variable show the how may times you got heads (using for loop)\n"
   ]
  },
  {
   "cell_type": "code",
   "execution_count": 13,
   "metadata": {},
   "outputs": [
    {
     "name": "stdout",
     "output_type": "stream",
     "text": [
      "The no. of times getting heads is: 4\n"
     ]
    }
   ],
   "source": [
    "result = [\"heads\",\"tails\",\"tails\",\"heads\",\"tails\",\"heads\",\"heads\",\"tails\",\"tails\",\"tails\"]\n",
    "total=0\n",
    "for i in result:\n",
    "    if i == \"heads\":\n",
    "        total+=1\n",
    "        \n",
    "print(f\"The no. of times getting heads is: {total}\")"
   ]
  },
  {
   "cell_type": "markdown",
   "metadata": {},
   "source": [
    "### 2.Print square of all numbers between 1 to 10 except even numbers"
   ]
  },
  {
   "cell_type": "code",
   "execution_count": 14,
   "metadata": {},
   "outputs": [
    {
     "name": "stdout",
     "output_type": "stream",
     "text": [
      "1\n",
      "9\n",
      "25\n",
      "49\n",
      "81\n"
     ]
    }
   ],
   "source": [
    "for i in range(1,11,2):\n",
    "    print(i**2)"
   ]
  },
  {
   "cell_type": "markdown",
   "metadata": {},
   "source": [
    "### 3.Lets say you are running a 5 km race. Write a program that, A.Upon completing each 1 km asks you \"are you tired?\" B.If you reply \"yes\" then it should break and print \"you didn't finish the race\" C.If you reply \"no\" then it should continue and ask \"are you tired\" on every km D.If you finish all 5 km then it should print congratulations message"
   ]
  },
  {
   "cell_type": "code",
   "execution_count": 15,
   "metadata": {},
   "outputs": [
    {
     "name": "stdout",
     "output_type": "stream",
     "text": [
      " complite 1km, Are you tired?\n",
      "Please inter your reply:no\n",
      " complite 2km, Are you tired?\n",
      "Please inter your reply:no\n",
      " complite 3km, Are you tired?\n",
      "Please inter your reply:no\n",
      " complite 4km, Are you tired?\n",
      "Please inter your reply:no\n",
      " complite 5km, Are you tired?\n",
      "Please inter your reply:no\n",
      "congratulations you can complete the race\n"
     ]
    }
   ],
   "source": [
    "a=5\n",
    "for i in range(a):\n",
    "    print(f\" complite {i+1}km, Are you tired?\")\n",
    "    reply=input(\"Please inter your reply:\")\n",
    "    if reply == \"yes\":\n",
    "        print(\"you did't finish the race\")\n",
    "        break\n",
    "    else:\n",
    "        if i==4:\n",
    "            print(\"congratulations you can complete the race\")\n",
    "        "
   ]
  },
  {
   "cell_type": "code",
   "execution_count": 24,
   "metadata": {},
   "outputs": [
    {
     "name": "stdout",
     "output_type": "stream",
     "text": [
      "Enter the expence amount:2340\n",
      "your month of expence is ['January']\n"
     ]
    }
   ],
   "source": [
    "month_list = [\"January\", \"February\", \"March\", \"April\", \"May\"]\n",
    "expense_list = [2340, 2500, 2500, 3100, 2500]\n",
    "month=[]\n",
    "inter=int(input(\"Enter the expence amount:\"))\n",
    "for i in range(len(expense_list)):\n",
    "    if expense_list[i]==inter:\n",
    "            month.append(month_list[i])\n",
    "    \n",
    "        \n",
    "if month==[]:\n",
    "    print(\"inter correct value\")\n",
    "else:\n",
    "    print(\"your month of expence is\", month) \n"
   ]
  },
  {
   "cell_type": "code",
   "execution_count": 7,
   "metadata": {},
   "outputs": [
    {
     "name": "stdout",
     "output_type": "stream",
     "text": [
      " *\n",
      " **\n",
      " ***\n",
      " ****\n",
      " *****\n"
     ]
    }
   ],
   "source": [
    "s=' '\n",
    "for i in range(1,6):\n",
    "        s += '*'\n",
    "        print(s,sep=\"  \")\n",
    "    \n",
    "    "
   ]
  },
  {
   "cell_type": "code",
   "execution_count": null,
   "metadata": {},
   "outputs": [],
   "source": []
  }
 ],
 "metadata": {
  "kernelspec": {
   "display_name": "Python 3",
   "language": "python",
   "name": "python3"
  },
  "language_info": {
   "codemirror_mode": {
    "name": "ipython",
    "version": 3
   },
   "file_extension": ".py",
   "mimetype": "text/x-python",
   "name": "python",
   "nbconvert_exporter": "python",
   "pygments_lexer": "ipython3",
   "version": "3.8.5"
  }
 },
 "nbformat": 4,
 "nbformat_minor": 4
}
