{
 "cells": [
  {
   "cell_type": "markdown",
   "metadata": {},
   "source": [
    "### If condition"
   ]
  },
  {
   "cell_type": "code",
   "execution_count": 7,
   "metadata": {},
   "outputs": [
    {
     "name": "stdout",
     "output_type": "stream",
     "text": [
      "Enter the number:-4\n",
      "The given number is negative\n"
     ]
    }
   ],
   "source": [
    "a=int(input(\"Enter the number:\"))\n",
    "\n",
    "if a>=0:\n",
    "    print(\"The given number is possitive\")\n",
    "else:\n",
    "    print(\"The given number is negative\")"
   ]
  },
  {
   "cell_type": "code",
   "execution_count": 8,
   "metadata": {},
   "outputs": [
    {
     "name": "stdout",
     "output_type": "stream",
     "text": [
      "Enter the value:6\n",
      "Your number is even\n"
     ]
    }
   ],
   "source": [
    "b=int(input(\"Enter the value:\"))\n",
    "if a%2==0:\n",
    "    print(\"Your number is even\")\n",
    "else:\n",
    "    print(\"your number is odd\")    "
   ]
  },
  {
   "cell_type": "code",
   "execution_count": 10,
   "metadata": {},
   "outputs": [
    {
     "name": "stdout",
     "output_type": "stream",
     "text": [
      "Enter the number:11\n",
      "number is odd\n"
     ]
    }
   ],
   "source": [
    "x=int(input(\"Enter the number:\"))\n",
    "print('number is even' if x%2==0 else 'number is odd')"
   ]
  },
  {
   "cell_type": "code",
   "execution_count": 13,
   "metadata": {},
   "outputs": [
    {
     "name": "stdout",
     "output_type": "stream",
     "text": [
      "Enter the dish name:rasmalai\n",
      "rasmalai is not in our list of dishes please inter anather dish\n"
     ]
    }
   ],
   "source": [
    "indian=[\"samosa\",\"kachori\",\"dal\",\"naan\"]\n",
    "pakistani=[\"nihari\",\"paya\",\"karahi\"]\n",
    "bangladesi=[\"panta bhat\",\"chorchori\",\"fuchka\"]\n",
    "dish=input(\"Enter the dish name:\")\n",
    "if dish in indian:\n",
    "    print(f'{dish} is indian')\n",
    "elif dish in pakistani:\n",
    "    print(f'{dish} is pakisthani')\n",
    "elif dish in bangladesi:\n",
    "    print(f'{dish} is bangladesi')\n",
    "else:\n",
    "    print(f'{dish} is not in our list of dishes please inter anather dish')\n",
    "    \n"
   ]
  },
  {
   "cell_type": "markdown",
   "metadata": {},
   "source": [
    "### Examples"
   ]
  },
  {
   "cell_type": "markdown",
   "metadata": {},
   "source": [
    "#### 1. Using following list of cities per country,\n",
    "    ```\n",
    "    india = [\"mumbai\", \"banglore\", \"chennai\", \"delhi\"]\n",
    "    pakistan = [\"lahore\",\"karachi\",\"islamabad\"]\n",
    "    bangladesh = [\"dhaka\", \"khulna\", \"rangpur\"]"
   ]
  },
  {
   "cell_type": "code",
   "execution_count": 19,
   "metadata": {},
   "outputs": [],
   "source": [
    "india = [\"mumbai\", \"banglore\", \"chennai\", \"delhi\"]\n",
    "pakistan = [\"lahore\",\"karachi\",\"islamabad\"]\n",
    "bangladesh = [\"dhaka\", \"khulna\", \"rangpur\"]"
   ]
  },
  {
   "cell_type": "markdown",
   "metadata": {},
   "source": [
    "#### A.Write a program that asks user to enter a city name and it should tell which country the city belongs to"
   ]
  },
  {
   "cell_type": "code",
   "execution_count": 20,
   "metadata": {},
   "outputs": [
    {
     "name": "stdout",
     "output_type": "stream",
     "text": [
      "Enter the city name:mumbai\n",
      "The city mumbai belong to the contry of india\n"
     ]
    }
   ],
   "source": [
    "city=input(\"Enter the city name:\")\n",
    "if city in india:\n",
    "    print(f'The city {city} belong to the contry of india')\n",
    "elif city in pakistan:\n",
    "    print(f'The city {city} belong to the contry of pakistan')\n",
    "elif city in bangladesh:\n",
    "    print(f'The city {city} belong to the contry of bangladesh')\n",
    "else:\n",
    "    print(\"Enter the contry name which can belong to the above list of contries\")"
   ]
  },
  {
   "cell_type": "markdown",
   "metadata": {},
   "source": [
    "#### B.Write a program that asks user to enter two cities and it tells you if they both are in same country or not. For exampleif I enter mumbai and chennai, it will print \"Both cities are in India\" but if I enter mumbai and dhaka it should print \"They don't belong to same country\""
   ]
  },
  {
   "cell_type": "code",
   "execution_count": 24,
   "metadata": {},
   "outputs": [
    {
     "name": "stdout",
     "output_type": "stream",
     "text": [
      "Enter the firs city name:mumbai\n",
      "Enter the second city name:delhi\n",
      "Both citys mumbai and delhi are in india\n"
     ]
    }
   ],
   "source": [
    "city1=input(\"Enter the firs city name:\")\n",
    "city2=input(\"Enter the second city name:\")\n",
    "if city1 in india and city2 in india:\n",
    "    print(f'Both citys {city1} and {city2} are in india')\n",
    "elif city1 in pakistan and city2 in pakistan:\n",
    "    print(f'Both citys {city1} and {city2} are in pakistan')\n",
    "elif city1 in bangladesh and city2 in bangladesh:\n",
    "    print(f'Both citys {city1} and {city2} are in bangladesh')\n",
    "else:\n",
    "    print(f'Both citys {city1} and {city2} not bolong to same contry')\n",
    "\n",
    "\n"
   ]
  },
  {
   "cell_type": "markdown",
   "metadata": {},
   "source": [
    "#### 2.Write a python program that can tell you if your sugar is normal or not. Normal fasting level sugar range is 80 to 100.A.Ask user to enter his fasting sugar level\n",
    "#### B.If it is below 80 to 100 range then print that sugar is low\n",
    "#### C.If it is above 100 then print that it is high otherwise print that it is normal\n"
   ]
  },
  {
   "cell_type": "code",
   "execution_count": 2,
   "metadata": {},
   "outputs": [
    {
     "name": "stdout",
     "output_type": "stream",
     "text": [
      "Enter his fasting suger level:79\n",
      "Your suger level is low\n"
     ]
    }
   ],
   "source": [
    "suger=int(input(\"Enter his fasting suger level:\"))\n",
    "if suger<80:\n",
    "    print(\"Your suger level is low\")\n",
    "elif suger>=80 and suger<100:\n",
    "    print(\"Your suger level is normal\")\n",
    "elif suger>=100:\n",
    "    print(\"Your suger level is high\")\n"
   ]
  },
  {
   "cell_type": "code",
   "execution_count": 3,
   "metadata": {},
   "outputs": [
    {
     "name": "stdout",
     "output_type": "stream",
     "text": [
      "w\n",
      "a\n",
      "i\n"
     ]
    }
   ],
   "source": [
    "for x in \"wai\":\n",
    "    print(x)"
   ]
  },
  {
   "cell_type": "code",
   "execution_count": 5,
   "metadata": {},
   "outputs": [
    {
     "name": "stdout",
     "output_type": "stream",
     "text": [
      "Enter the what can you do:mul\n",
      "Plese Enter the correct option, becouse it can not match the above options\n"
     ]
    }
   ],
   "source": [
    "inter=input(\"Enter the what can you do:\")\n",
    "if inter == \"add\":\n",
    "    a=int(input(\"Enter the value of first number:\"))\n",
    "    b=int(input(\"Enter the value of second number:\"))\n",
    "    print(\"addition of two number is\" ,a+b)\n",
    "elif inter == \"sub\":\n",
    "    a=int(input(\"Enter the value of first number:\"))\n",
    "    b=int(input(\"Enter the second number:\"))\n",
    "    print(\"subtraction of two number is\" ,a-b)\n",
    "elif inter == \"multi\":\n",
    "    a=int(input(\"Enter the first value:\"))\n",
    "    b=int(input(\"Enter the second value:\"))\n",
    "    Print(\"multiplication of two number is\", a*b)\n",
    "else:\n",
    "    print(\"Plese Enter the correct option, becouse it can not match the above options\")"
   ]
  },
  {
   "cell_type": "code",
   "execution_count": null,
   "metadata": {},
   "outputs": [],
   "source": []
  }
 ],
 "metadata": {
  "kernelspec": {
   "display_name": "Python 3",
   "language": "python",
   "name": "python3"
  },
  "language_info": {
   "codemirror_mode": {
    "name": "ipython",
    "version": 3
   },
   "file_extension": ".py",
   "mimetype": "text/x-python",
   "name": "python",
   "nbconvert_exporter": "python",
   "pygments_lexer": "ipython3",
   "version": "3.8.5"
  }
 },
 "nbformat": 4,
 "nbformat_minor": 4
}
