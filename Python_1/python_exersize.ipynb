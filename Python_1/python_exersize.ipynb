{
 "cells": [
  {
   "cell_type": "markdown",
   "metadata": {},
   "source": [
    "## Python Exercise:"
   ]
  },
  {
   "cell_type": "markdown",
   "metadata": {},
   "source": [
    "#### 1. Create a for loop that prompts the user for a hobby 3 times, then appends each one to hobbies."
   ]
  },
  {
   "cell_type": "code",
   "execution_count": 45,
   "metadata": {},
   "outputs": [
    {
     "name": "stdout",
     "output_type": "stream",
     "text": [
      "Enter your hobby:waching movie+++\n",
      "Enter your hobby:crecket\n",
      "Enter your hobby:game\n",
      "['waching movie+++', 'crecket', 'game']\n"
     ]
    }
   ],
   "source": [
    "hobby=[]\n",
    "for i in range(3):\n",
    "    a=input(\"Enter your hobby:\")\n",
    "    hobby.append(a)\n",
    "    \n",
    "print(hobby)"
   ]
  },
  {
   "cell_type": "markdown",
   "metadata": {},
   "source": [
    "#### 2. Write a function called digit_sum that takes a positive integer n as input and returns the sum of all that number's digits."
   ]
  },
  {
   "cell_type": "code",
   "execution_count": 47,
   "metadata": {},
   "outputs": [],
   "source": [
    "def digit_sum(n):\n",
    "    sum=0\n",
    "    for i in range(1,n+1):\n",
    "        sum+=i\n",
    "    print(\"The sum of possitive number is:\",sum)"
   ]
  },
  {
   "cell_type": "code",
   "execution_count": 48,
   "metadata": {},
   "outputs": [
    {
     "name": "stdout",
     "output_type": "stream",
     "text": [
      "The sum of possitive number is: 15\n"
     ]
    }
   ],
   "source": [
    "digit_sum(5)"
   ]
  },
  {
   "cell_type": "markdown",
   "metadata": {},
   "source": [
    "#### 3. Define a function is_even that will take a number x as input.If x is even, then return True. Otherwise, return False. Note: even means that is divisible by two.Check if it works."
   ]
  },
  {
   "cell_type": "code",
   "execution_count": 54,
   "metadata": {},
   "outputs": [],
   "source": [
    "def is_even(x):\n",
    "    if x%2==0:\n",
    "        return True\n",
    "    else:\n",
    "        return False"
   ]
  },
  {
   "cell_type": "code",
   "execution_count": 55,
   "metadata": {},
   "outputs": [
    {
     "data": {
      "text/plain": [
       "False"
      ]
     },
     "execution_count": 55,
     "metadata": {},
     "output_type": "execute_result"
    }
   ],
   "source": [
    "is_even(15)"
   ]
  },
  {
   "cell_type": "markdown",
   "metadata": {},
   "source": [
    "#### 4. Print multiplication table of given number , num=2"
   ]
  },
  {
   "cell_type": "code",
   "execution_count": 1,
   "metadata": {},
   "outputs": [],
   "source": [
    "def Mult_table(x):\n",
    "    add=[]\n",
    "    for i in range(1,11):\n",
    "        add.append(x*i)\n",
    "    print(add)"
   ]
  },
  {
   "cell_type": "code",
   "execution_count": 7,
   "metadata": {},
   "outputs": [
    {
     "name": "stdout",
     "output_type": "stream",
     "text": [
      "[2, 4, 6, 8, 10, 12, 14, 16, 18, 20]\n"
     ]
    }
   ],
   "source": [
    "Mult_table(2)"
   ]
  },
  {
   "cell_type": "markdown",
   "metadata": {},
   "source": [
    " 5. Print pattern  \n",
    "\n",
    " 1\n",
    "2 2\n",
    "3 3 3\n",
    "4 4 4 4\n"
   ]
  },
  {
   "cell_type": "code",
   "execution_count": 134,
   "metadata": {},
   "outputs": [
    {
     "name": "stdout",
     "output_type": "stream",
     "text": [
      "1 \n",
      "2 2 \n",
      "3 3 3 \n",
      "4 4 4 4 \n"
     ]
    }
   ],
   "source": [
    "s=0\n",
    "for i in range(1,5):\n",
    "    for j in range(0,i):\n",
    "        print(i,end=\" \")\n",
    "    print()\n"
   ]
  },
  {
   "cell_type": "markdown",
   "metadata": {},
   "source": [
    "#### 6.   Write a Python program to count the number of even and odd numbers from a series of numbers."
   ]
  },
  {
   "cell_type": "code",
   "execution_count": 59,
   "metadata": {},
   "outputs": [],
   "source": [
    "def no_even(x):\n",
    "    odd=0\n",
    "    even=0\n",
    "    for i in range(1,x+1):\n",
    "        if i%2==0:\n",
    "            even+=1\n",
    "        else:\n",
    "            odd+=1\n",
    "    print(\"No of odd values is:\",odd)\n",
    "    print(\"No of even value is:\",even)"
   ]
  },
  {
   "cell_type": "code",
   "execution_count": 60,
   "metadata": {},
   "outputs": [
    {
     "name": "stdout",
     "output_type": "stream",
     "text": [
      "No of odd values is: 11\n",
      "No of even value is: 11\n"
     ]
    }
   ],
   "source": [
    "no_even(22)"
   ]
  },
  {
   "cell_type": "markdown",
   "metadata": {},
   "source": [
    "#### 7. Write a Python program to check whether an alphabet is a vowel or consonant."
   ]
  },
  {
   "cell_type": "code",
   "execution_count": 61,
   "metadata": {},
   "outputs": [],
   "source": [
    "def alphabet(a):\n",
    "    ovel=[\"A\",\"E\",\"I\",\"O\",\"U\"]\n",
    "    z=a.upper()\n",
    "    if z in ovel:\n",
    "        print(\"Your enter alphabet is: ovel\")\n",
    "    else:\n",
    "        print(\"Your enter alphabet is: consonant\")\n",
    "    "
   ]
  },
  {
   "cell_type": "code",
   "execution_count": 62,
   "metadata": {},
   "outputs": [
    {
     "name": "stdout",
     "output_type": "stream",
     "text": [
      "Your enter alphabet is: consonant\n"
     ]
    }
   ],
   "source": [
    "alphabet(\"b\")"
   ]
  },
  {
   "cell_type": "markdown",
   "metadata": {},
   "source": [
    "#### 8. Display -10 to -1 using for loop"
   ]
  },
  {
   "cell_type": "code",
   "execution_count": 81,
   "metadata": {},
   "outputs": [
    {
     "name": "stdout",
     "output_type": "stream",
     "text": [
      "-10 -9 -8 -7 -6 -5 -4 -3 -2 -1\n"
     ]
    }
   ],
   "source": [
    "print(*range(-10,0,1))\n"
   ]
  },
  {
   "cell_type": "markdown",
   "metadata": {},
   "source": [
    "#### 9.  Write a loop to find the factorial of any number,"
   ]
  },
  {
   "cell_type": "code",
   "execution_count": 63,
   "metadata": {},
   "outputs": [],
   "source": [
    "def facto(x):\n",
    "    if x==0:\n",
    "        print(\"factorial is: 1\")\n",
    "    elif x<0:\n",
    "        print(\"Enter possitive number\")\n",
    "    else:\n",
    "        for i in range(1,x):\n",
    "            x=x*i\n",
    "        print(\"Factorial is:\", x)\n",
    "        "
   ]
  },
  {
   "cell_type": "code",
   "execution_count": 64,
   "metadata": {},
   "outputs": [
    {
     "name": "stdout",
     "output_type": "stream",
     "text": [
      "Factorial is: 24\n"
     ]
    }
   ],
   "source": [
    "facto(4)"
   ]
  },
  {
   "cell_type": "markdown",
   "metadata": {},
   "source": [
    "#### 10.  Display Fibonacci series up to 10 terms"
   ]
  },
  {
   "cell_type": "code",
   "execution_count": 65,
   "metadata": {},
   "outputs": [],
   "source": [
    "def fibonecci(n):\n",
    "    p=[]\n",
    "    for i in range(n+1):\n",
    "        if i<0:\n",
    "            print(\"Incorrect input\")\n",
    "        elif i==0:\n",
    "            p.append(0)\n",
    "        elif i==1 or i==2:\n",
    "            p.append(1)\n",
    "        else:\n",
    "            p.append(p[i-1]+p[i-2])\n",
    "    print(p)\n",
    "        "
   ]
  },
  {
   "cell_type": "code",
   "execution_count": 66,
   "metadata": {},
   "outputs": [
    {
     "name": "stdout",
     "output_type": "stream",
     "text": [
      "[0, 1, 1, 2, 3, 5, 8, 13, 21, 34, 55, 89, 144, 233, 377, 610, 987, 1597, 2584, 4181, 6765, 10946, 17711, 28657, 46368, 75025, 121393, 196418, 317811, 514229, 832040]\n"
     ]
    }
   ],
   "source": [
    "fibonecci(30)"
   ]
  },
  {
   "cell_type": "markdown",
   "metadata": {},
   "source": [
    "#### without using sort or reverse function , you reverse the following list"
   ]
  },
  {
   "cell_type": "code",
   "execution_count": 133,
   "metadata": {},
   "outputs": [
    {
     "data": {
      "text/plain": [
       "[6, 2, 12, 33, 76, 23, 5, 12, 6, 3]"
      ]
     },
     "execution_count": 133,
     "metadata": {},
     "output_type": "execute_result"
    }
   ],
   "source": [
    "x=[3,6,12,5,23,76,33,12,2,6]\n",
    "x[::-1]"
   ]
  },
  {
   "cell_type": "markdown",
   "metadata": {},
   "source": [
    "#### 12.  Find the sum of the series 2 +22 + 222 + 2222 + .. n terms"
   ]
  },
  {
   "cell_type": "code",
   "execution_count": 15,
   "metadata": {},
   "outputs": [],
   "source": [
    "def series(n):\n",
    "    x=2\n",
    "    sum=0\n",
    "    for j in range(1,n):\n",
    "        print(x,end=\" \")\n",
    "        sum+=x\n",
    "        x=(x*10)+2\n",
    "    print(x)\n",
    "    \n",
    "    "
   ]
  },
  {
   "cell_type": "code",
   "execution_count": 16,
   "metadata": {},
   "outputs": [
    {
     "name": "stdout",
     "output_type": "stream",
     "text": [
      "2 22 222 2222 22222 222222 2222222\n"
     ]
    }
   ],
   "source": [
    "series(7)"
   ]
  },
  {
   "cell_type": "code",
   "execution_count": 13,
   "metadata": {},
   "outputs": [],
   "source": [
    "def seri(n):\n",
    "    s=' '\n",
    "    for i in range(n):\n",
    "        s += '2'\n",
    "        print(s,end=\" \")"
   ]
  },
  {
   "cell_type": "code",
   "execution_count": 17,
   "metadata": {},
   "outputs": [
    {
     "name": "stdout",
     "output_type": "stream",
     "text": [
      " 2  22  222  2222  22222  222222  2222222 "
     ]
    }
   ],
   "source": [
    "seri(7)"
   ]
  },
  {
   "cell_type": "markdown",
   "metadata": {},
   "source": [
    "#### 13. Display the cube of the number up to a given integer,  input_number = 6\n",
    "Current Number is : 1  and the cube is 1\n",
    "Current Number is : 2  and the cube is 8\n",
    "Current Number is : 3  and the cube is 27\n",
    "Current Number is : 4  and the cube is 64\n",
    "Current Number is : 5  and the cube is 125\n",
    "Current Number is : 6  and the cube is 216\n"
   ]
  },
  {
   "cell_type": "code",
   "execution_count": 13,
   "metadata": {},
   "outputs": [],
   "source": [
    "def cube_num(x):\n",
    "    for i in range(1,x+1):\n",
    "        a=i*i*i\n",
    "        print(f\"Current Number is : {i} and the cube is : {a}\")\n",
    "        \n",
    "        "
   ]
  },
  {
   "cell_type": "code",
   "execution_count": 14,
   "metadata": {},
   "outputs": [
    {
     "name": "stdout",
     "output_type": "stream",
     "text": [
      "Current Number is : 1 and the cube is : 1\n",
      "Current Number is : 2 and the cube is : 8\n",
      "Current Number is : 3 and the cube is : 27\n",
      "Current Number is : 4 and the cube is : 64\n",
      "Current Number is : 5 and the cube is : 125\n",
      "Current Number is : 6 and the cube is : 216\n"
     ]
    }
   ],
   "source": [
    "cube_num(6)"
   ]
  },
  {
   "cell_type": "markdown",
   "metadata": {},
   "source": [
    "#### 14.  Reverse a given integer number,  given 76542, expected output - 24567"
   ]
  },
  {
   "cell_type": "code",
   "execution_count": 69,
   "metadata": {},
   "outputs": [],
   "source": [
    "def rever(x):\n",
    "    a=str(x)\n",
    "    print(\"your reverse number is:\",a[::-1])\n",
    "    "
   ]
  },
  {
   "cell_type": "code",
   "execution_count": 70,
   "metadata": {},
   "outputs": [
    {
     "name": "stdout",
     "output_type": "stream",
     "text": [
      "your reverse number is: 24567\n"
     ]
    }
   ],
   "source": [
    "rever(76542)"
   ]
  },
  {
   "cell_type": "code",
   "execution_count": 68,
   "metadata": {},
   "outputs": [
    {
     "ename": "TypeError",
     "evalue": "'int' object is not subscriptable",
     "output_type": "error",
     "traceback": [
      "\u001b[1;31m---------------------------------------------------------------------------\u001b[0m",
      "\u001b[1;31mTypeError\u001b[0m                                 Traceback (most recent call last)",
      "\u001b[1;32m<ipython-input-68-2b900f79836d>\u001b[0m in \u001b[0;36m<module>\u001b[1;34m\u001b[0m\n\u001b[0;32m      1\u001b[0m \u001b[0ma\u001b[0m\u001b[1;33m=\u001b[0m\u001b[1;36m123\u001b[0m\u001b[1;33m\u001b[0m\u001b[1;33m\u001b[0m\u001b[0m\n\u001b[1;32m----> 2\u001b[1;33m \u001b[0mprint\u001b[0m\u001b[1;33m(\u001b[0m\u001b[0ma\u001b[0m\u001b[1;33m[\u001b[0m\u001b[1;33m:\u001b[0m\u001b[1;33m:\u001b[0m\u001b[1;33m-\u001b[0m\u001b[1;36m1\u001b[0m\u001b[1;33m]\u001b[0m\u001b[1;33m)\u001b[0m\u001b[1;33m\u001b[0m\u001b[1;33m\u001b[0m\u001b[0m\n\u001b[0m",
      "\u001b[1;31mTypeError\u001b[0m: 'int' object is not subscriptable"
     ]
    }
   ],
   "source": [
    "a=123\n",
    "print(a[::-1])"
   ]
  },
  {
   "cell_type": "markdown",
   "metadata": {},
   "source": [
    "#### 15. Use a loop to display elements from a given list which are present at even positions,  my_list = [10, 20, 30, 40, 50, 60, 70, 80, 90, 100], "
   ]
  },
  {
   "cell_type": "code",
   "execution_count": 32,
   "metadata": {},
   "outputs": [
    {
     "name": "stdout",
     "output_type": "stream",
     "text": [
      "[20, 40, 60, 80, 100]\n"
     ]
    }
   ],
   "source": [
    "my_list = [10, 20, 30, 40, 50, 60, 70, 80, 90, 100]\n",
    "even_list=[]\n",
    "for i in my_list:\n",
    "    s=i/10\n",
    "    if s%2==0:\n",
    "        even_list.append(i)\n",
    "        \n",
    "print(even_list)\n"
   ]
  },
  {
   "cell_type": "code",
   "execution_count": 72,
   "metadata": {},
   "outputs": [
    {
     "data": {
      "text/plain": [
       "[20, 40, 60, 80, 100]"
      ]
     },
     "execution_count": 72,
     "metadata": {},
     "output_type": "execute_result"
    }
   ],
   "source": [
    "my_list = [10, 20, 30, 40, 50, 60, 70, 80, 90, 100]\n",
    "my_list[1::2]"
   ]
  },
  {
   "cell_type": "markdown",
   "metadata": {},
   "source": [
    "#### 16.  Given a following two sets find the intersection and remove those elements from the first set\n",
    "First Set  {65, 42, 78, 83, 23, 57, 29}\n",
    "Second Set  {67, 73, 43, 48, 83, 57, 29}\n",
    "\n",
    "Intersection is  {57, 83, 29}\n",
    "First Set after removing common element  {65, 42, 78, 23}\n"
   ]
  },
  {
   "cell_type": "code",
   "execution_count": 38,
   "metadata": {},
   "outputs": [
    {
     "name": "stdout",
     "output_type": "stream",
     "text": [
      "{57, 83, 29}\n",
      "{65, 42, 78, 23}\n"
     ]
    }
   ],
   "source": [
    "First_Set={65, 42, 78, 83, 23, 57, 29}\n",
    "Second_Set={67, 73, 43, 48, 83, 57, 29}\n",
    "intersection=set()\n",
    "common=set()\n",
    "for i in First_Set:\n",
    "    if i in Second_Set:\n",
    "        common.add(i)\n",
    "    else:\n",
    "        intersection.add(i)\n",
    "        \n",
    "print(common)\n",
    "print(intersection)"
   ]
  },
  {
   "cell_type": "markdown",
   "metadata": {},
   "source": [
    "#### 17. Write a function calculation() such that it can accept two variables and calculate the addition and subtraction of it. And also it must return both addition and subtraction in a single return call"
   ]
  },
  {
   "cell_type": "code",
   "execution_count": 42,
   "metadata": {},
   "outputs": [],
   "source": [
    "def calculation(x,y):\n",
    "    return (x+y , x-y)"
   ]
  },
  {
   "cell_type": "code",
   "execution_count": 43,
   "metadata": {},
   "outputs": [
    {
     "data": {
      "text/plain": [
       "(9, -3)"
      ]
     },
     "execution_count": 43,
     "metadata": {},
     "output_type": "execute_result"
    }
   ],
   "source": [
    "calculation(3,6)"
   ]
  },
  {
   "cell_type": "markdown",
   "metadata": {},
   "source": [
    "18.  Assign a different name to function and call it through the new name\n",
    "def displayStudent(name, age):\n",
    "    print(name, age)\n",
    "\n",
    "displayStudent(\"Emma\", 26)\n",
    "You should be able to call the same function using\n",
    "showStudent(name, age)\n"
   ]
  },
  {
   "cell_type": "code",
   "execution_count": 118,
   "metadata": {},
   "outputs": [
    {
     "name": "stdout",
     "output_type": "stream",
     "text": [
      "ganesh 23\n",
      "gane 2\n"
     ]
    }
   ],
   "source": [
    "def display_student(name,age):\n",
    "    print(name,age)\n",
    "\n",
    "    \n",
    "display_student(\"ganesh\",23)\n",
    "\n",
    "show_student=display_student\n",
    "show_student(\"gane\",2)\n"
   ]
  },
  {
   "cell_type": "markdown",
   "metadata": {},
   "source": [
    "#### 19. Generate a Python list of all the even numbers between 4 to 30"
   ]
  },
  {
   "cell_type": "code",
   "execution_count": 44,
   "metadata": {},
   "outputs": [
    {
     "name": "stdout",
     "output_type": "stream",
     "text": [
      "[4, 6, 8, 10, 12, 14, 16, 18, 20, 22, 24, 26, 28, 30]\n"
     ]
    }
   ],
   "source": [
    "even_list=[]\n",
    "for i in range(4,31):\n",
    "    if i%2==0:\n",
    "        even_list.append(i)\n",
    "        \n",
    "print(even_list)"
   ]
  },
  {
   "cell_type": "markdown",
   "metadata": {},
   "source": [
    "20. Sort a tuple of tuples by 2nd item,  tuple1 = (('a', 23),('b', 37),('c', 11), ('d',29)).\n",
    "Expected output:\n",
    "(('c', 11), ('a', 23), ('d', 29), ('b', 37))\n"
   ]
  },
  {
   "cell_type": "code",
   "execution_count": 119,
   "metadata": {},
   "outputs": [
    {
     "name": "stdout",
     "output_type": "stream",
     "text": [
      "(('c', 11), ('a', 23), ('d', 29), ('b', 37))\n"
     ]
    }
   ],
   "source": [
    "tupl = (('a', 23),('b', 37),('c', 11), ('d',29))\n",
    "tupl=tuple(sorted(list(tupl),key=lambda x:x[1]))\n",
    "print(tupl)\n"
   ]
  },
  {
   "cell_type": "code",
   "execution_count": null,
   "metadata": {},
   "outputs": [],
   "source": []
  }
 ],
 "metadata": {
  "kernelspec": {
   "display_name": "Python 3",
   "language": "python",
   "name": "python3"
  },
  "language_info": {
   "codemirror_mode": {
    "name": "ipython",
    "version": 3
   },
   "file_extension": ".py",
   "mimetype": "text/x-python",
   "name": "python",
   "nbconvert_exporter": "python",
   "pygments_lexer": "ipython3",
   "version": "3.8.5"
  }
 },
 "nbformat": 4,
 "nbformat_minor": 4
}
