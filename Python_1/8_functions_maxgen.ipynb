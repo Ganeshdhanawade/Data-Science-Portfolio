{
 "cells": [
  {
   "cell_type": "markdown",
   "metadata": {},
   "source": [
    "### function"
   ]
  },
  {
   "cell_type": "code",
   "execution_count": 1,
   "metadata": {},
   "outputs": [],
   "source": [
    "bharat_expenses = [20,30,45]\n",
    "bilal_expenses = [45,67,34]\n"
   ]
  },
  {
   "cell_type": "code",
   "execution_count": 2,
   "metadata": {},
   "outputs": [],
   "source": [
    "def addition(x):\n",
    "    '''\n",
    "    x is to inter list which can you get addition \n",
    "    '''\n",
    "    sum=0\n",
    "    for i in range(len(x)):\n",
    "        sum +=x[i]\n",
    "    print(sum)"
   ]
  },
  {
   "cell_type": "code",
   "execution_count": 6,
   "metadata": {},
   "outputs": [
    {
     "name": "stdout",
     "output_type": "stream",
     "text": [
      "95\n"
     ]
    }
   ],
   "source": [
    "addition(bharat_expenses)"
   ]
  },
  {
   "cell_type": "code",
   "execution_count": 7,
   "metadata": {},
   "outputs": [
    {
     "name": "stdout",
     "output_type": "stream",
     "text": [
      "146\n"
     ]
    }
   ],
   "source": [
    "addition(bilal_expenses)"
   ]
  },
  {
   "cell_type": "code",
   "execution_count": 8,
   "metadata": {},
   "outputs": [],
   "source": [
    "def full_name(name,midle,last):\n",
    "    '''\n",
    "    name=Enter your first name\n",
    "    midle=Enter your father name\n",
    "    last=Enter your surname\n",
    "    '''\n",
    "    print(f\"My full name is:{name} {midle} {last}\")"
   ]
  },
  {
   "cell_type": "code",
   "execution_count": 10,
   "metadata": {},
   "outputs": [
    {
     "name": "stdout",
     "output_type": "stream",
     "text": [
      "My full name is:Ganesh Mahadev Dhanawade\n"
     ]
    }
   ],
   "source": [
    "full_name(\"Ganesh\",\"Mahadev\",\"Dhanawade\")"
   ]
  },
  {
   "cell_type": "code",
   "execution_count": 11,
   "metadata": {},
   "outputs": [
    {
     "name": "stdout",
     "output_type": "stream",
     "text": [
      "area of circle is: 100.48\n"
     ]
    }
   ],
   "source": [
    "def area_circle(r,pi=3.14): # pi is defult argument\n",
    "    area=2*pi*r**2\n",
    "    print(f\"area of circle is: {area}\")\n",
    "    \n",
    "area_circle(4)"
   ]
  },
  {
   "cell_type": "markdown",
   "metadata": {},
   "source": [
    "### Exercise: Functions in python:\n"
   ]
  },
  {
   "cell_type": "markdown",
   "metadata": {},
   "source": [
    "#### # 1. Write a function called calculate_area that takes base and height as an input and returns and area of a triangle. Equation of an area of a triangle is,\n"
   ]
  },
  {
   "cell_type": "code",
   "execution_count": 14,
   "metadata": {},
   "outputs": [
    {
     "name": "stdout",
     "output_type": "stream",
     "text": [
      "The area of triengle is: 9.0\n"
     ]
    }
   ],
   "source": [
    "def area_tringle(base,height):\n",
    "    area=(1/2)*base*height\n",
    "    print(f'The area of triengle is: {area}')\n",
    "area_tringle(3,6)"
   ]
  },
  {
   "cell_type": "markdown",
   "metadata": {},
   "source": [
    "#### # 2. Modify above function to take third parameter shape type. It can be either \"triangle\" or \"rectangle\". Based on shape type it will calculate area. Equation of rectangle's area is,\n"
   ]
  },
  {
   "cell_type": "code",
   "execution_count": 17,
   "metadata": {},
   "outputs": [
    {
     "name": "stdout",
     "output_type": "stream",
     "text": [
      "The area of ractangle is: 28\n"
     ]
    }
   ],
   "source": [
    "def area_rectangle(lenght,width=5):\n",
    "    area=lenght*width\n",
    "    print(\"The area of ractangle is:\",area)\n",
    "    \n",
    "area_rectangle(4,7)"
   ]
  },
  {
   "cell_type": "code",
   "execution_count": 18,
   "metadata": {},
   "outputs": [
    {
     "name": "stdout",
     "output_type": "stream",
     "text": [
      "The area of ractangle is: 15\n"
     ]
    }
   ],
   "source": [
    "area_rectangle(3) #width is defult argument"
   ]
  },
  {
   "cell_type": "markdown",
   "metadata": {},
   "source": [
    "##### 3. Write a function called print_pattern that takes integer number as an argument and prints following pattern if input number is 3,\n",
    " "
   ]
  },
  {
   "cell_type": "code",
   "execution_count": 20,
   "metadata": {},
   "outputs": [
    {
     "name": "stdout",
     "output_type": "stream",
     "text": [
      " *\n",
      " **\n",
      " ***\n"
     ]
    }
   ],
   "source": [
    "def print_pattern(x):\n",
    "    pat=\" \"\n",
    "    for i in range(x):\n",
    "        pat+=\"*\"\n",
    "        print(pat)\n",
    "\n",
    "print_pattern(3)"
   ]
  },
  {
   "cell_type": "code",
   "execution_count": 21,
   "metadata": {},
   "outputs": [
    {
     "name": "stdout",
     "output_type": "stream",
     "text": [
      " *\n",
      " **\n",
      " ***\n",
      " ****\n"
     ]
    }
   ],
   "source": [
    "print_pattern(4)"
   ]
  },
  {
   "cell_type": "code",
   "execution_count": null,
   "metadata": {},
   "outputs": [],
   "source": []
  }
 ],
 "metadata": {
  "kernelspec": {
   "display_name": "Python 3",
   "language": "python",
   "name": "python3"
  },
  "language_info": {
   "codemirror_mode": {
    "name": "ipython",
    "version": 3
   },
   "file_extension": ".py",
   "mimetype": "text/x-python",
   "name": "python",
   "nbconvert_exporter": "python",
   "pygments_lexer": "ipython3",
   "version": "3.8.5"
  }
 },
 "nbformat": 4,
 "nbformat_minor": 4
}
