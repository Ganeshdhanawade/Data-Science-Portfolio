{
 "cells": [
  {
   "cell_type": "markdown",
   "id": "c7dea574",
   "metadata": {},
   "source": [
    "### oop"
   ]
  },
  {
   "cell_type": "code",
   "execution_count": 3,
   "id": "dda713e4",
   "metadata": {},
   "outputs": [],
   "source": [
    "class computer1:\n",
    "    def config(self):\n",
    "        print('i5,16gb,1tb')"
   ]
  },
  {
   "cell_type": "code",
   "execution_count": 4,
   "id": "de353ce5",
   "metadata": {},
   "outputs": [],
   "source": [
    "s=computer1()"
   ]
  },
  {
   "cell_type": "code",
   "execution_count": 5,
   "id": "24436616",
   "metadata": {},
   "outputs": [
    {
     "name": "stdout",
     "output_type": "stream",
     "text": [
      "<class '__main__.computer1'>\n"
     ]
    }
   ],
   "source": [
    "print(type(s))"
   ]
  },
  {
   "cell_type": "code",
   "execution_count": 6,
   "id": "780f8d7b",
   "metadata": {},
   "outputs": [
    {
     "name": "stdout",
     "output_type": "stream",
     "text": [
      "i5,16gb,1tb\n"
     ]
    }
   ],
   "source": [
    "computer1.config(s)"
   ]
  },
  {
   "cell_type": "markdown",
   "id": "dcc739dd",
   "metadata": {},
   "source": [
    "### using __init__= spetial method(function)"
   ]
  },
  {
   "cell_type": "code",
   "execution_count": 19,
   "id": "9d4786fd",
   "metadata": {},
   "outputs": [],
   "source": [
    "class computer:\n",
    "    def __init__(self,processor,storage):\n",
    "        self.processor=processor\n",
    "        self.storage=storage\n",
    "        \n",
    "    def config1(self):\n",
    "        print(self.processor,self.storage)\n",
    "    "
   ]
  },
  {
   "cell_type": "code",
   "execution_count": 20,
   "id": "932f5fed",
   "metadata": {},
   "outputs": [],
   "source": [
    "s1=computer('i5',8)"
   ]
  },
  {
   "cell_type": "code",
   "execution_count": 21,
   "id": "44991310",
   "metadata": {},
   "outputs": [
    {
     "name": "stdout",
     "output_type": "stream",
     "text": [
      "i5 8\n"
     ]
    }
   ],
   "source": [
    "s1.config1()"
   ]
  },
  {
   "cell_type": "code",
   "execution_count": 22,
   "id": "4814d453",
   "metadata": {},
   "outputs": [
    {
     "data": {
      "text/plain": [
       "'i5'"
      ]
     },
     "execution_count": 22,
     "metadata": {},
     "output_type": "execute_result"
    }
   ],
   "source": [
    "s1.processor"
   ]
  },
  {
   "cell_type": "markdown",
   "id": "203f1daf",
   "metadata": {},
   "source": [
    " #### constructor and self"
   ]
  },
  {
   "cell_type": "code",
   "execution_count": 23,
   "id": "134d7e0a",
   "metadata": {},
   "outputs": [],
   "source": [
    "class intro:\n",
    "    \n",
    "    def __init__(self):\n",
    "        self.name='ganesh'\n",
    "        self.age=25\n",
    "        \n",
    "    def info(self):\n",
    "        print(self.name,self.age)\n",
    "        "
   ]
  },
  {
   "cell_type": "code",
   "execution_count": 24,
   "id": "4bd14b1f",
   "metadata": {},
   "outputs": [],
   "source": [
    "s3=intro()"
   ]
  },
  {
   "cell_type": "code",
   "execution_count": 25,
   "id": "01053c02",
   "metadata": {},
   "outputs": [
    {
     "name": "stdout",
     "output_type": "stream",
     "text": [
      "ganesh 25\n"
     ]
    }
   ],
   "source": [
    "s3.info()"
   ]
  },
  {
   "cell_type": "markdown",
   "id": "5585472c",
   "metadata": {},
   "source": [
    "### updation of values"
   ]
  },
  {
   "cell_type": "code",
   "execution_count": 36,
   "id": "e4deb937",
   "metadata": {},
   "outputs": [],
   "source": [
    "class info1:\n",
    "    def __init__(self,name,age):\n",
    "        self.name=name\n",
    "        self.age=age\n",
    "        print(self.name,self.age)\n",
    "    def update(self):\n",
    "        self.name='akash'\n",
    "        self.age=26\n",
    "        print(self.name,self.age)"
   ]
  },
  {
   "cell_type": "code",
   "execution_count": 38,
   "id": "b30abc70",
   "metadata": {},
   "outputs": [
    {
     "name": "stdout",
     "output_type": "stream",
     "text": [
      "ganesh 25\n"
     ]
    }
   ],
   "source": [
    "s5=info1('ganesh',25)"
   ]
  },
  {
   "cell_type": "code",
   "execution_count": 39,
   "id": "e8402544",
   "metadata": {},
   "outputs": [
    {
     "name": "stdout",
     "output_type": "stream",
     "text": [
      "akash 26\n"
     ]
    }
   ],
   "source": [
    "s5.update()"
   ]
  },
  {
   "cell_type": "markdown",
   "id": "ce27718e",
   "metadata": {},
   "source": [
    "### comparisons"
   ]
  },
  {
   "cell_type": "code",
   "execution_count": 43,
   "id": "7a798b18",
   "metadata": {},
   "outputs": [],
   "source": [
    "class comparision:\n",
    "    def __init__(self):\n",
    "        self.name='ganesh'\n",
    "        self.age=25\n",
    "    \n",
    "    def update(self):\n",
    "        self.name='ganesh'\n",
    "        self.age=26\n",
    "        \n",
    "    def compare(self,value):\n",
    "        if self.age==value.age:\n",
    "            return True\n",
    "        else:\n",
    "            return False\n",
    "        \n",
    "            "
   ]
  },
  {
   "cell_type": "code",
   "execution_count": 44,
   "id": "fe7b5140",
   "metadata": {},
   "outputs": [],
   "source": [
    "c1=comparision()\n",
    "c2=comparision()"
   ]
  },
  {
   "cell_type": "code",
   "execution_count": 46,
   "id": "260296cd",
   "metadata": {},
   "outputs": [
    {
     "name": "stdout",
     "output_type": "stream",
     "text": [
      "25\n",
      "25\n"
     ]
    }
   ],
   "source": [
    "print(c1.age)\n",
    "print(c2.age)"
   ]
  },
  {
   "cell_type": "code",
   "execution_count": 48,
   "id": "79b6eb42",
   "metadata": {},
   "outputs": [
    {
     "name": "stdout",
     "output_type": "stream",
     "text": [
      "They are same\n"
     ]
    }
   ],
   "source": [
    "if c1.compare(c2):\n",
    "    print('They are same')\n",
    "else:\n",
    "    print('They are diffrent')"
   ]
  },
  {
   "cell_type": "code",
   "execution_count": 49,
   "id": "5568f1ed",
   "metadata": {},
   "outputs": [],
   "source": [
    "c1.age=30"
   ]
  },
  {
   "cell_type": "code",
   "execution_count": 50,
   "id": "41410fd1",
   "metadata": {},
   "outputs": [
    {
     "name": "stdout",
     "output_type": "stream",
     "text": [
      "They are diffrent\n"
     ]
    }
   ],
   "source": [
    "if c1.compare(c2):\n",
    "    print('They are same')\n",
    "else:\n",
    "    print('They are diffrent')"
   ]
  },
  {
   "cell_type": "code",
   "execution_count": null,
   "id": "00509149",
   "metadata": {},
   "outputs": [],
   "source": [
    "### variable: 1)instance variable : the variable insite the init fuction 2)class variable: the variable outside init fuction"
   ]
  },
  {
   "cell_type": "code",
   "execution_count": 52,
   "id": "3648d3a4",
   "metadata": {},
   "outputs": [],
   "source": [
    "class car:\n",
    "    \n",
    "    wheels=4                   #class variabel\n",
    "    def __init__(self):\n",
    "        self.mil=10             #instant variable\n",
    "        self.com='BMW'"
   ]
  },
  {
   "cell_type": "code",
   "execution_count": 60,
   "id": "a1d7e313",
   "metadata": {},
   "outputs": [],
   "source": [
    "c1=car()       #its object\n",
    "c2=car()"
   ]
  },
  {
   "cell_type": "code",
   "execution_count": 61,
   "id": "dd73becd",
   "metadata": {},
   "outputs": [],
   "source": [
    "c2.mil=6           ##update class variabel values\n",
    "car.wheels=3         #it change the all vaues in all object of that class"
   ]
  },
  {
   "cell_type": "code",
   "execution_count": 62,
   "id": "4dacbcc9",
   "metadata": {},
   "outputs": [
    {
     "name": "stdout",
     "output_type": "stream",
     "text": [
      "BMW 10 3\n",
      "BMW 6 3\n"
     ]
    }
   ],
   "source": [
    "print(c1.com,c1.mil,c1.wheels)\n",
    "print(c2.com,c2.mil,c2.wheels)"
   ]
  },
  {
   "cell_type": "code",
   "execution_count": null,
   "id": "2d05e422",
   "metadata": {},
   "outputs": [],
   "source": [
    "### types of method(fuctions):   1)instance 2)class 3)static methods"
   ]
  },
  {
   "cell_type": "code",
   "execution_count": 69,
   "id": "01131b8d",
   "metadata": {},
   "outputs": [],
   "source": [
    "class student:\n",
    "    school ='kvm'\n",
    "    \n",
    "    def __init__(self,m1,m2,m3):\n",
    "        self.m1=m1\n",
    "        self.m2=m2\n",
    "        self.m3=m3\n",
    "        \n",
    "    def avg(self):\n",
    "        return (self.m1+self.m2+self.m3)/3      #instance fuction(method)\n",
    "    \n",
    "    def get_m1(self):           #get method (getor) or accesor\n",
    "        return self.m1\n",
    "    \n",
    "    def set_m1(self,value):     #set method (setor) or mutetor\n",
    "        self.m1 = value\n",
    "    \n",
    "    @classmethod        #this is the decorator to tell below is the class method\n",
    "    def getschool(cls):   #represent the class variabes\n",
    "        return cls.school                               ##this the class method\n",
    "    \n",
    "    @staticmethod   #it also defind the decorator\n",
    "    def info():\n",
    "        print('This is the student class')    #static method nit have cls or self defind "
   ]
  },
  {
   "cell_type": "code",
   "execution_count": 70,
   "id": "3233ee64",
   "metadata": {},
   "outputs": [],
   "source": [
    "s1=student(3,6,9)\n",
    "s2=student(4,7,8)"
   ]
  },
  {
   "cell_type": "code",
   "execution_count": 71,
   "id": "6dc245c3",
   "metadata": {},
   "outputs": [
    {
     "name": "stdout",
     "output_type": "stream",
     "text": [
      "6.0\n"
     ]
    }
   ],
   "source": [
    "print(s1.avg())"
   ]
  },
  {
   "cell_type": "code",
   "execution_count": 72,
   "id": "7f2d8663",
   "metadata": {},
   "outputs": [
    {
     "name": "stdout",
     "output_type": "stream",
     "text": [
      "This is the student class\n"
     ]
    }
   ],
   "source": [
    "student.info()"
   ]
  },
  {
   "cell_type": "code",
   "execution_count": null,
   "id": "1f4955c2",
   "metadata": {},
   "outputs": [],
   "source": [
    "### class insite class"
   ]
  },
  {
   "cell_type": "code",
   "execution_count": 99,
   "id": "3b6d293c",
   "metadata": {},
   "outputs": [],
   "source": [
    "class student1:   #outer class\n",
    "    def __init__(self,name,roll):\n",
    "        self.name=name\n",
    "        self.roll=roll\n",
    "        self.lap=self.laptop()\n",
    "        \n",
    "    def show(self):\n",
    "        print(self.name,self.roll)\n",
    "        \n",
    "    class laptop:   #inner class\n",
    "        \n",
    "        def __init__(self):\n",
    "            self.brand='hp'\n",
    "            self.cpu='i5'\n",
    "            self.ram =8\n",
    "            \n",
    "        def show(self):\n",
    "            print(self.cpu,self.ram)"
   ]
  },
  {
   "cell_type": "code",
   "execution_count": 100,
   "id": "ce73f1d7",
   "metadata": {},
   "outputs": [],
   "source": [
    "b1=student1('ganesh',25)\n",
    "b2=student1('gmd',10)"
   ]
  },
  {
   "cell_type": "code",
   "execution_count": 101,
   "id": "cc34aa18",
   "metadata": {},
   "outputs": [
    {
     "data": {
      "text/plain": [
       "'hp'"
      ]
     },
     "execution_count": 101,
     "metadata": {},
     "output_type": "execute_result"
    }
   ],
   "source": [
    "b1.lap.brand"
   ]
  },
  {
   "cell_type": "code",
   "execution_count": 102,
   "id": "de3806c2",
   "metadata": {},
   "outputs": [],
   "source": [
    "lap1=student1.laptop()     ##create the object of inner class"
   ]
  },
  {
   "cell_type": "code",
   "execution_count": 103,
   "id": "faee2fe5",
   "metadata": {},
   "outputs": [
    {
     "name": "stdout",
     "output_type": "stream",
     "text": [
      "ganesh 25\n"
     ]
    }
   ],
   "source": [
    "b1.show()"
   ]
  },
  {
   "cell_type": "code",
   "execution_count": 104,
   "id": "a1ba397e",
   "metadata": {},
   "outputs": [
    {
     "name": "stdout",
     "output_type": "stream",
     "text": [
      "i5 8\n"
     ]
    }
   ],
   "source": [
    "lap1.show()"
   ]
  },
  {
   "cell_type": "code",
   "execution_count": 105,
   "id": "7a33dcba",
   "metadata": {},
   "outputs": [],
   "source": [
    "## inheritance in python"
   ]
  },
  {
   "cell_type": "code",
   "execution_count": null,
   "id": "728e427f",
   "metadata": {},
   "outputs": [],
   "source": [
    "## A)feture for existing class"
   ]
  },
  {
   "cell_type": "code",
   "execution_count": 106,
   "id": "0e70ba02",
   "metadata": {},
   "outputs": [],
   "source": [
    "#single leval inherritence\n",
    "class A:     #parents class(super class)\n",
    "    \n",
    "    def feature1():\n",
    "        print('this is the 1 feature in class A')\n",
    "        \n",
    "    def feature2():\n",
    "        print('this is the 2 feature in class A')\n",
    "        \n",
    "        \n",
    "class B(A):              # it shows class B is subclass of A this is known as inheritance (child class) \n",
    "    \n",
    "    def feature3():\n",
    "        print('this is the 3 feature in class B')\n",
    "        \n",
    "    def feature4():\n",
    "        print('this is the 4 feature in class B')\n",
    "        "
   ]
  },
  {
   "cell_type": "code",
   "execution_count": 108,
   "id": "e56a1be6",
   "metadata": {},
   "outputs": [],
   "source": [
    "d1=B()"
   ]
  },
  {
   "cell_type": "code",
   "execution_count": null,
   "id": "3de2d4df",
   "metadata": {},
   "outputs": [],
   "source": [
    "d1.feature1  #use the featrue 1"
   ]
  },
  {
   "cell_type": "code",
   "execution_count": null,
   "id": "54a4f47a",
   "metadata": {},
   "outputs": [],
   "source": [
    "#2)"
   ]
  },
  {
   "cell_type": "code",
   "execution_count": 110,
   "id": "2576798a",
   "metadata": {},
   "outputs": [],
   "source": [
    "#multi leval inherritence\n",
    "class A:     #grand-parents class(super class)\n",
    "    \n",
    "    def feature1():\n",
    "        print('this is the 1 feature in class A')\n",
    "        \n",
    "    def feature2():\n",
    "        print('this is the 2 feature in class A')\n",
    "        \n",
    "        \n",
    "class B(A):              #parent class\n",
    "\n",
    "    def feature3():\n",
    "        print('this is the 3 feature in class B')\n",
    "        \n",
    "    def feature4():\n",
    "        print('this is the 4 feature in class B')\n",
    "\n",
    "class C(B):              chaid (this have all the feature information in parents class)\n",
    "    \n",
    "    def feature5():\n",
    "        print('this is the 5 feature in class c')"
   ]
  },
  {
   "cell_type": "code",
   "execution_count": 111,
   "id": "95171874",
   "metadata": {},
   "outputs": [],
   "source": [
    "c4=C()"
   ]
  },
  {
   "cell_type": "code",
   "execution_count": 112,
   "id": "7af00dc0",
   "metadata": {},
   "outputs": [
    {
     "data": {
      "text/plain": [
       "<bound method A.feature1 of <__main__.C object at 0x7f66add26550>>"
      ]
     },
     "execution_count": 112,
     "metadata": {},
     "output_type": "execute_result"
    }
   ],
   "source": [
    "c4.feature1"
   ]
  },
  {
   "cell_type": "code",
   "execution_count": null,
   "id": "8e20584e",
   "metadata": {},
   "outputs": [],
   "source": [
    "#3)"
   ]
  },
  {
   "cell_type": "code",
   "execution_count": 114,
   "id": "e7071333",
   "metadata": {},
   "outputs": [],
   "source": [
    "#multi leval inherritence\n",
    "class A:     #parents class(super class)\n",
    "    \n",
    "    def feature1():\n",
    "        print('this is the 1 feature in class A')\n",
    "        \n",
    "    def feature2():\n",
    "        print('this is the 2 feature in class A')\n",
    "        \n",
    "        \n",
    "class B:              #parent class\n",
    "\n",
    "    def feature3():\n",
    "        print('this is the 3 feature in class B')\n",
    "        \n",
    "    def feature4():\n",
    "        print('this is the 4 feature in class B')\n",
    "\n",
    "class C(A,B):              #chaid (this have all the feature information in parents class)\n",
    "    \n",
    "    def feature5():\n",
    "        print('this is the 5 feature in class c')"
   ]
  },
  {
   "cell_type": "code",
   "execution_count": null,
   "id": "3a8658e7",
   "metadata": {},
   "outputs": [],
   "source": []
  },
  {
   "cell_type": "code",
   "execution_count": 115,
   "id": "2d20c62a",
   "metadata": {},
   "outputs": [],
   "source": [
    "## B)constructors in inheritance\n",
    " #if we use the __init__ in class A not be that fine but\n",
    "#both class have __init__ so after combining which class init used "
   ]
  },
  {
   "cell_type": "code",
   "execution_count": null,
   "id": "4236864b",
   "metadata": {},
   "outputs": [],
   "source": [
    "class A: #parents class(super class)\n",
    "    \n",
    "    def __init__(self):\n",
    "        print('In A init')\n",
    "    \n",
    "    def feature1():\n",
    "        print('this is the 1 feature in class A')\n",
    "        \n",
    "    def feature2():\n",
    "        print('this is the 2 feature in class A')\n",
    "        \n",
    "        \n",
    "class B(A):              #here which init can be use? so its problem of super()\n",
    "    \n",
    "    def __init__(self):\n",
    "        print('In B init')\n",
    "\n",
    "    def feature3():\n",
    "        print('this is the 3 feature in class B')\n",
    "        \n",
    "    def feature4():\n",
    "        print('this is the 4 feature in class B')\n"
   ]
  },
  {
   "cell_type": "code",
   "execution_count": null,
   "id": "75cc9460",
   "metadata": {},
   "outputs": [],
   "source": [
    "##solution:"
   ]
  },
  {
   "cell_type": "code",
   "execution_count": 116,
   "id": "dcc92503",
   "metadata": {},
   "outputs": [],
   "source": [
    "class A: #parents class(super class)\n",
    "    \n",
    "    def __init__(self):\n",
    "        print('In A init')\n",
    "    \n",
    "    def feature1():\n",
    "        print('this is the 1 feature in class A')\n",
    "        \n",
    "    def feature2():\n",
    "        print('this is the 2 feature in class A')\n",
    "        \n",
    "        \n",
    "class B(A):              #here which init can be use? so its problem of super()\n",
    "    \n",
    "    def __init__(self):\n",
    "        super().__init__()    ##give the all init information in parent class \n",
    "        print('In B init')\n",
    "\n",
    "    def feature3():\n",
    "        print('this is the 3 feature in class B')\n",
    "        \n",
    "    def feature4():\n",
    "        print('this is the 4 feature in class B')"
   ]
  },
  {
   "cell_type": "code",
   "execution_count": 118,
   "id": "1ae44274",
   "metadata": {},
   "outputs": [
    {
     "name": "stdout",
     "output_type": "stream",
     "text": [
      "In A init\n",
      "In B init\n"
     ]
    }
   ],
   "source": [
    "a=B()   #here super is go with paret class first and exicute init function and then execute this init"
   ]
  },
  {
   "cell_type": "code",
   "execution_count": null,
   "id": "b01f3336",
   "metadata": {},
   "outputs": [],
   "source": []
  },
  {
   "cell_type": "code",
   "execution_count": null,
   "id": "a8759dad",
   "metadata": {},
   "outputs": [],
   "source": [
    "## C) method resolution order(MRO): if two paret in one chaild using super"
   ]
  },
  {
   "cell_type": "code",
   "execution_count": 123,
   "id": "8f4cbd77",
   "metadata": {},
   "outputs": [],
   "source": [
    "#multi leval inherritence\n",
    "class A:     #parents class(super class)\n",
    "    \n",
    "    def __init__(self):\n",
    "        print('In A init')\n",
    "    \n",
    "    def feature1(self):\n",
    "        print('this is the 1 feature in class A')\n",
    "        \n",
    "    def feature2():\n",
    "        print('this is the 2 feature in class A')\n",
    "        \n",
    "        \n",
    "class B:              #parent class\n",
    "    \n",
    "    def __init__(self):\n",
    "        print('In B init')\n",
    "\n",
    "    def feature3():\n",
    "        print('this is the 3 feature in class B')\n",
    "        \n",
    "    def feature4():\n",
    "        print('this is the 4 feature in class B')\n",
    "\n",
    "class C(A,B):  #chaid (this have all the feature information in parents class)\n",
    "    \n",
    "    def __init__(self):\n",
    "        super().__init__()   #defult left class shows eg(a,b) shows a init class\n",
    "        print('in C init')\n",
    "        \n",
    "    def __init__(self):\n",
    "        super().feature2()    #here also used the fuctional arguments\n",
    "    \n",
    "    def feature5():\n",
    "        print('this is the 5 feature in class c')"
   ]
  },
  {
   "cell_type": "code",
   "execution_count": 124,
   "id": "f5d4074d",
   "metadata": {},
   "outputs": [
    {
     "name": "stdout",
     "output_type": "stream",
     "text": [
      "In A init\n",
      "in C init\n"
     ]
    }
   ],
   "source": [
    "s=C()\n"
   ]
  },
  {
   "cell_type": "code",
   "execution_count": 125,
   "id": "933feb7a",
   "metadata": {},
   "outputs": [
    {
     "name": "stdout",
     "output_type": "stream",
     "text": [
      "this is the 1 feature in class A\n"
     ]
    }
   ],
   "source": [
    "s.feature1()"
   ]
  },
  {
   "cell_type": "code",
   "execution_count": null,
   "id": "0468b3e1",
   "metadata": {},
   "outputs": [],
   "source": [
    "### polymorphism :means multiple forms (its behave diffrently according to setuatin)"
   ]
  },
  {
   "cell_type": "code",
   "execution_count": null,
   "id": "7e3eef83",
   "metadata": {},
   "outputs": [],
   "source": [
    "# below is the some types of polymorphisum\n",
    "# a)dock typing\n",
    "# b)operator overloading\n",
    "# c)method overloading\n",
    "# d)method overriding"
   ]
  },
  {
   "cell_type": "code",
   "execution_count": null,
   "id": "48bd2991",
   "metadata": {},
   "outputs": [],
   "source": [
    "# a)dock typing: have the execute object its does note matter which class is run only execute is present."
   ]
  },
  {
   "cell_type": "code",
   "execution_count": 3,
   "id": "6a60b87e",
   "metadata": {},
   "outputs": [
    {
     "name": "stdout",
     "output_type": "stream",
     "text": [
      "spell check\n",
      "convension check\n",
      "compiling\n",
      "running\n"
     ]
    }
   ],
   "source": [
    "class pycharm:\n",
    "    \n",
    "    def execute(self):\n",
    "        print('compiling')\n",
    "        print('Running')\n",
    "        \n",
    "class MyEditor:\n",
    "    \n",
    "    def execute(self):\n",
    "        print('spell check')\n",
    "        print('convension check')\n",
    "        print('compiling')\n",
    "        print('running')\n",
    "        \n",
    "class Laptop:\n",
    "    def code(self,ide):     #ide=integrated devlopment envoirment\n",
    "        ide.execute()          #here only matter for the execute is present in class so its working\n",
    "        \n",
    "ide=pycharm()\n",
    "ide1=MyEditor()\n",
    "s1=Laptop()\n",
    "\n",
    "s1.code(ide1)\n",
    "    "
   ]
  },
  {
   "cell_type": "code",
   "execution_count": null,
   "id": "f08243df",
   "metadata": {},
   "outputs": [],
   "source": [
    "# b)oprator overloading: if we adding the two int and two int but not to both each other here we can talk with oprators\n",
    "#addition:int.__add__() , subtraction: int.__sub__ , multiplication: int.__mul__"
   ]
  },
  {
   "cell_type": "code",
   "execution_count": 14,
   "id": "990f9fde",
   "metadata": {},
   "outputs": [
    {
     "name": "stdout",
     "output_type": "stream",
     "text": [
      "127\n",
      "s2 is wins\n",
      "58 69\n",
      "69 65\n"
     ]
    }
   ],
   "source": [
    "class student:\n",
    "    \n",
    "    def __init__(self,m1,m2):\n",
    "        self.m1=m1\n",
    "        self.m2=m2\n",
    "        \n",
    "    def __add__(self,other):     #for addition\n",
    "        m1=self.m1 + other.m1\n",
    "        m2=self.m2 + other.m2\n",
    "        s3=student(m1,m2)\n",
    "        \n",
    "        return s3\n",
    "    \n",
    "    def __gt__(self,other):   ## 'gt' is grether than\n",
    "        r1=self.m1 + self.m2\n",
    "        r2=other.m1 + other.m2\n",
    "        if r1 > r2:\n",
    "            return True\n",
    "        else:\n",
    "            return False\n",
    "        \n",
    "    def __str__(self):   ##shows the all numbers in string formate\n",
    "        return '{} {}'.format(self.m1,self.m2)\n",
    "    \n",
    "        \n",
    "s1=student(58,69)\n",
    "s2=student(69,65)\n",
    "\n",
    "#for addition\n",
    "s3=s1+s2\n",
    "print(s3.m1)\n",
    "\n",
    "#for comparision\n",
    "if s1 > s2:\n",
    "    print('s1 wins')\n",
    "else:\n",
    "    print('s2 is wins')\n",
    "    \n",
    "##print the values of the s1 and s2\n",
    "print(s1)\n",
    "print(s2)"
   ]
  },
  {
   "cell_type": "code",
   "execution_count": null,
   "id": "56c3fba8",
   "metadata": {},
   "outputs": [],
   "source": [
    "# c)method overloading : here is talk with function(method) overloading (overloading = same method but diffrent argument)\n",
    "#method overloading : class contain same function but diffrent parameters, eg:\n",
    "# student:\n",
    "#     def avg(a,b):\n",
    "#     def avg(a,b,c):"
   ]
  },
  {
   "cell_type": "code",
   "execution_count": 16,
   "id": "d73fe32d",
   "metadata": {},
   "outputs": [],
   "source": [
    "class student:\n",
    "    \n",
    "    def __init__(self,m1,m2):\n",
    "        self.m1=m1\n",
    "        self.m2=m2\n",
    "        \n",
    "    def sum(self,a,b):\n",
    "        s=a+b\n",
    "        \n",
    "        return s\n",
    "    "
   ]
  },
  {
   "cell_type": "code",
   "execution_count": 19,
   "id": "c93a093a",
   "metadata": {},
   "outputs": [
    {
     "name": "stdout",
     "output_type": "stream",
     "text": [
      "9\n"
     ]
    }
   ],
   "source": [
    "s3=student(3,6)\n",
    "print(s3.sum(3,6))  #that function run if you can send only two arguments if you send thee aruguments it shows the error \n",
    "                    # so what can i do then its also give the answer of the three variables"
   ]
  },
  {
   "cell_type": "code",
   "execution_count": null,
   "id": "910e0586",
   "metadata": {},
   "outputs": [],
   "source": [
    "sol:\n",
    "    "
   ]
  },
  {
   "cell_type": "code",
   "execution_count": 20,
   "id": "dae53311",
   "metadata": {},
   "outputs": [],
   "source": [
    "class student:\n",
    "    \n",
    "    def __init__(self,m1,m2):\n",
    "        self.m1=m1\n",
    "        self.m2=m2\n",
    "        \n",
    "    def sum(self,a=None,b=None,c=None):\n",
    "        \n",
    "        if a!=None and b!=None and c!=None:\n",
    "            s=a+b+c\n",
    "            \n",
    "        elif a!=None and b!=None:\n",
    "            s=a+b\n",
    "        else:\n",
    "            s=a\n",
    "        return s\n",
    "            \n",
    "    "
   ]
  },
  {
   "cell_type": "code",
   "execution_count": 22,
   "id": "66b99ffe",
   "metadata": {},
   "outputs": [
    {
     "name": "stdout",
     "output_type": "stream",
     "text": [
      "6\n",
      "13\n",
      "101\n"
     ]
    }
   ],
   "source": [
    "s1=student(3,7)\n",
    "print(s1.sum(6))\n",
    "print(s1.sum(5,8))\n",
    "print(s1.sum(5,7,89))  #its methos for the overloading"
   ]
  },
  {
   "cell_type": "code",
   "execution_count": null,
   "id": "ba1ac65a",
   "metadata": {},
   "outputs": [],
   "source": [
    "# c))method overriding : here is talk with function(method) overloading (overriding = dffrent class but same method(function))\n",
    "#method overriding : diffrent classes having same fuctions, eg:\n"
   ]
  },
  {
   "cell_type": "code",
   "execution_count": 23,
   "id": "347e9884",
   "metadata": {},
   "outputs": [],
   "source": [
    "class A:\n",
    "    def show(self):\n",
    "        print('in A show')\n",
    "        \n",
    "class B(A):\n",
    "    pass"
   ]
  },
  {
   "cell_type": "code",
   "execution_count": 24,
   "id": "2795f0d6",
   "metadata": {},
   "outputs": [
    {
     "name": "stdout",
     "output_type": "stream",
     "text": [
      "in A show\n"
     ]
    }
   ],
   "source": [
    "a1=B()\n",
    "a1.show()"
   ]
  },
  {
   "cell_type": "code",
   "execution_count": 25,
   "id": "b5977eb5",
   "metadata": {},
   "outputs": [
    {
     "name": "stdout",
     "output_type": "stream",
     "text": [
      "in B show\n"
     ]
    }
   ],
   "source": [
    "class A:\n",
    "    def show(self):\n",
    "        print('in A show')\n",
    "        \n",
    "class B(A):\n",
    "    \n",
    "    def show(self):\n",
    "        print('in B show')\n",
    "        \n",
    "a1=B()\n",
    "a1.show()"
   ]
  },
  {
   "cell_type": "code",
   "execution_count": null,
   "id": "fc262282",
   "metadata": {},
   "outputs": [],
   "source": [
    "here the b is overwrrite in a"
   ]
  }
 ],
 "metadata": {
  "kernelspec": {
   "display_name": "Python 3 (ipykernel)",
   "language": "python",
   "name": "python3"
  },
  "language_info": {
   "codemirror_mode": {
    "name": "ipython",
    "version": 3
   },
   "file_extension": ".py",
   "mimetype": "text/x-python",
   "name": "python",
   "nbconvert_exporter": "python",
   "pygments_lexer": "ipython3",
   "version": "3.11.4"
  }
 },
 "nbformat": 4,
 "nbformat_minor": 5
}
